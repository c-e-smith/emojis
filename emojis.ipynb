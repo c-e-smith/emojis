{
 "cells": [
  {
   "cell_type": "code",
   "execution_count": null,
   "metadata": {},
   "outputs": [],
   "source": [
    "#!python3\n",
    "# import sys\n",
    "\n",
    "# def main():\n",
    "#     sys.stdout.write(\"Hello\")\n",
    "\n",
    "# if __name__ == '__main__':\n",
    "#     main()"
   ]
  },
  {
   "cell_type": "code",
   "execution_count": 48,
   "metadata": {},
   "outputs": [],
   "source": [
    "import requests\n",
    "from bs4 import BeautifulSoup\n",
    "import pandas as pd\n",
    "import random"
   ]
  },
  {
   "cell_type": "code",
   "execution_count": 66,
   "metadata": {},
   "outputs": [],
   "source": [
    "class EmoTime:\n",
    "    '''\n",
    "    get dem dank emojis\n",
    "    '''\n",
    "    \n",
    "    def __init__(self):\n",
    "        self.url = 'https://gist.github.com/rxaviers/7360908'\n",
    "    \n",
    "    def get(self, n=5):\n",
    "        '''\n",
    "        n: number of emoji to retrieve, default 5\n",
    "        '''\n",
    "        res = BeautifulSoup(requests.get(self.url).content, 'html.parser') \n",
    "        emoji_list = []\n",
    "        emoji_output = ''\n",
    "        \n",
    "        for table in res.findAll('table'):\n",
    "            for cell in table.findAll('td'):\n",
    "                for emoji in cell.findAll('code'):\n",
    "                    emoji_list.append(emoji.text)\n",
    "\n",
    "        for i in range(n):\n",
    "            emoji_output  += random.choice(emoji_list) + ' '\n",
    "            \n",
    "        print(emoji_output[:-1])"
   ]
  },
  {
   "cell_type": "code",
   "execution_count": 67,
   "metadata": {},
   "outputs": [],
   "source": [
    "foo = EmoTime()"
   ]
  },
  {
   "cell_type": "code",
   "execution_count": 68,
   "metadata": {},
   "outputs": [
    {
     "name": "stdout",
     "output_type": "stream",
     "text": [
      ":rose: :two_women_holding_hands: :sleeping: :monorail: :baby_bottle:\n"
     ]
    }
   ],
   "source": [
    "foo.get()"
   ]
  }
 ],
 "metadata": {
  "kernelspec": {
   "display_name": "Python 3",
   "language": "python",
   "name": "python3"
  },
  "language_info": {
   "codemirror_mode": {
    "name": "ipython",
    "version": 3
   },
   "file_extension": ".py",
   "mimetype": "text/x-python",
   "name": "python",
   "nbconvert_exporter": "python",
   "pygments_lexer": "ipython3",
   "version": "3.6.3"
  }
 },
 "nbformat": 4,
 "nbformat_minor": 2
}
